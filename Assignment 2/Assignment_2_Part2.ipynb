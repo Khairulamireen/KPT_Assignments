{
 "cells": [
  {
   "cell_type": "code",
   "execution_count": 2,
   "metadata": {},
   "outputs": [],
   "source": [
    "import torch, torchvision\n",
    "import torch.nn as nn\n",
    "import torch.nn.functional as F\n",
    "import torch.optim as optim\n",
    "import time\n",
    "import numpy as np\n",
    "import matplotlib.pyplot as plt\n",
    "import os\n",
    "import cv2\n",
    "import glob\n",
    "import numpy\n",
    "import random\n",
    "\n",
    "from PIL import Image\n",
    "from torch.utils.data import Dataset\n",
    "from torch.utils.data import DataLoader\n",
    "from torchvision import datasets, models, transforms\n",
    "from torchsummary import summary"
   ]
  },
  {
   "cell_type": "code",
   "execution_count": 3,
   "metadata": {},
   "outputs": [],
   "source": [
    "from torchvision.transforms.transforms import RandomPerspective\n",
    "import torchvision\n",
    "import torchvision.transforms as transforms\n",
    "\n",
    "image_transforms = {\n",
    "    'train': transforms.Compose([\n",
    "        transforms.RandomResizedCrop(size=256, scale=(0.8, 1.0)),\n",
    "\n",
    "        # Added transformation------------------------------------------\n",
    "\n",
    "        transforms.GaussianBlur(kernel_size=(5, 13), sigma=(0.1, 0.2)),\n",
    "        #---------------------------------------------------------------\n",
    "        \n",
    "        transforms.RandomRotation(degrees=15),\n",
    "        transforms.RandomHorizontalFlip(),\n",
    "        transforms.CenterCrop(size=224),\n",
    "        transforms.ToTensor(),\n",
    "        transforms.Normalize([0.485, 0.456, 0.406],\n",
    "                             [0.229, 0.224, 0.225])\n",
    "    ]),\n",
    "    'test': transforms.Compose([\n",
    "        transforms.Resize(size=256),\n",
    "        transforms.CenterCrop(size=224),\n",
    "        transforms.ToTensor(),\n",
    "        transforms.Normalize([0.485, 0.456, 0.406],\n",
    "                             [0.229, 0.224, 0.225])\n",
    "    ])\n",
    "}"
   ]
  },
  {
   "cell_type": "code",
   "execution_count": 4,
   "metadata": {},
   "outputs": [
    {
     "name": "stdout",
     "output_type": "stream",
     "text": [
      "4\n"
     ]
    }
   ],
   "source": [
    "dataset = 'C:/KPT/Dataset/fruit_dataset_modi-20220724T221022Z-001/fruit_dataset_modi'\n",
    "\n",
    "train_directory = os.path.join(dataset, 'train')\n",
    "test_directory = os.path.join(dataset, 'validation')\n",
    "\n",
    "batchSize = 32\n",
    "\n",
    "num_classes = len(os.listdir(train_directory))\n",
    "print(num_classes)\n",
    "\n",
    "data = {\n",
    "    'train': datasets.ImageFolder(root=train_directory, transform=image_transforms['train']),\n",
    "\n",
    "    'test': datasets.ImageFolder(root=test_directory, transform=image_transforms['test'])\n",
    "}"
   ]
  },
  {
   "cell_type": "code",
   "execution_count": 5,
   "metadata": {},
   "outputs": [],
   "source": [
    "train_data_size = len(data['train'])\n",
    "test_data_size = len(data['test'])\n",
    "\n",
    "train_data_loader = DataLoader(data['train'], batch_size=batchSize, shuffle=True)\n",
    "test_data_loader = DataLoader(data['test'], batch_size=batchSize, shuffle=True)"
   ]
  },
  {
   "cell_type": "code",
   "execution_count": 6,
   "metadata": {},
   "outputs": [
    {
     "name": "stdout",
     "output_type": "stream",
     "text": [
      "486\n",
      "191\n"
     ]
    }
   ],
   "source": [
    "from torch.utils.data import DataLoader\n",
    "trainloader = DataLoader(dataset=data['train'], # use custom created train Dataset\n",
    "                                     batch_size=4, # how many samples per batch?\n",
    "                                     num_workers=0, # how many subprocesses to use for data loading? (higher = more)\n",
    "                                     shuffle=True) # shuffle the data?\n",
    "\n",
    "testloader = DataLoader(dataset=data['test'], # use custom created test Dataset\n",
    "                                    batch_size=4, \n",
    "                                    num_workers=0, \n",
    "                                    shuffle=False) # don't usually need to shuffle testing data\n",
    "\n",
    "train_data_size = len(trainloader.dataset)\n",
    "test_data_size = len(testloader.dataset)\n",
    "\n",
    "print(train_data_size)\n",
    "print(test_data_size)\n",
    "\n",
    "device = torch.device('cuda:0' if torch.cuda.is_available() else 'cpu')"
   ]
  },
  {
   "cell_type": "code",
   "execution_count": 7,
   "metadata": {},
   "outputs": [],
   "source": [
    "import time # to calculate training time\n",
    "\n",
    "def train_and_validate(model, loss_criterion, optimizer, epochs=25):\n",
    "    \n",
    "    start = time.time()\n",
    "    history = []\n",
    "    best_acc = 0.0\n",
    "\n",
    "    for epoch in range(epochs):\n",
    "        epoch_start = time.time()\n",
    "        print(\"Epoch: {}/{}\".format(epoch+1, epochs))\n",
    "\n",
    "        model.train()\n",
    "\n",
    "        train_loss = 0.0\n",
    "        train_acc = 0.0\n",
    "        \n",
    "        valid_loss = 0.0\n",
    "        valid_acc = 0.0\n",
    "        \n",
    "        for i, (inputs, labels) in enumerate(trainloader):\n",
    "\n",
    "            inputs = inputs.to(device)\n",
    "            labels = labels.to(device)\n",
    "            optimizer.zero_grad()\n",
    "            outputs = model(inputs)\n",
    "            loss = loss_criterion(outputs, labels)\n",
    "            loss.backward()\n",
    "            optimizer.step()\n",
    "            train_loss += loss.item() * inputs.size(0)\n",
    "            ret, predictions = torch.max(outputs.data, 1)\n",
    "            correct_counts = predictions.eq(labels.data.view_as(predictions))\n",
    "            acc = torch.mean(correct_counts.type(torch.FloatTensor))\n",
    "            train_acc += acc.item() * inputs.size(0)\n",
    "\n",
    "        with torch.no_grad():\n",
    "\n",
    "            model.eval()\n",
    "\n",
    "            for j, (inputs, labels) in enumerate(testloader):\n",
    "                inputs = inputs.to(device)\n",
    "                labels = labels.to(device)\n",
    "\n",
    "                outputs = model(inputs)\n",
    "                loss = loss_criterion(outputs, labels)\n",
    "                valid_loss += loss.item() * inputs.size(0)\n",
    "                ret, predictions = torch.max(outputs.data, 1)\n",
    "                correct_counts = predictions.eq(labels.data.view_as(predictions))\n",
    "                acc = torch.mean(correct_counts.type(torch.FloatTensor))\n",
    "                valid_acc += acc.item() * inputs.size(0)\n",
    "\n",
    "        avg_train_loss = train_loss/train_data_size \n",
    "        avg_train_acc = train_acc/train_data_size\n",
    "        avg_test_loss = valid_loss/test_data_size \n",
    "        avg_test_acc = valid_acc/test_data_size\n",
    "\n",
    "        history.append([avg_train_loss, avg_test_loss, avg_train_acc, avg_test_acc])\n",
    "                \n",
    "        epoch_end = time.time()\n",
    "    \n",
    "        print(\"Epoch : {:03d}, Training: Loss: {:.4f}, Accuracy: {:.4f}%, \\n\\t\\tValidation : Loss : {:.4f}, Accuracy: {:.4f}%, Time: {:.4f}s\".format(epoch, avg_train_loss, avg_train_acc*100, avg_test_loss, avg_test_acc*100, epoch_end-epoch_start))\n",
    "        \n",
    "        torch.save(model, 'Fruit_model_'+str(epoch)+'.pt')\n",
    "            \n",
    "    return model, history"
   ]
  },
  {
   "cell_type": "code",
   "execution_count": 8,
   "metadata": {},
   "outputs": [
    {
     "name": "stderr",
     "output_type": "stream",
     "text": [
      "C:\\Users\\Amireen\\anaconda3\\envs\\gpu\\lib\\site-packages\\torchvision\\models\\_utils.py:208: UserWarning: The parameter 'pretrained' is deprecated since 0.13 and will be removed in 0.15, please use 'weights' instead.\n",
      "  warnings.warn(\n",
      "C:\\Users\\Amireen\\anaconda3\\envs\\gpu\\lib\\site-packages\\torchvision\\models\\_utils.py:223: UserWarning: Arguments other than a weight enum or `None` for 'weights' are deprecated since 0.13 and will be removed in 0.15. The current behavior is equivalent to passing `weights=GoogLeNet_Weights.IMAGENET1K_V1`. You can also use `weights=GoogLeNet_Weights.DEFAULT` to get the most up-to-date weights.\n",
      "  warnings.warn(msg)\n"
     ]
    }
   ],
   "source": [
    "model_ft = models.googlenet(pretrained=True)\n",
    "num_ftrs = model_ft.fc.in_features\n",
    "\n",
    "for module,param in zip(model_ft.modules(), model_ft.parameters()):\n",
    "  if isinstance(module, nn.BatchNorm2d):\n",
    "    param.requires_grad = False\n",
    "\n",
    "# model_ft.fc = nn.Linear(num_ftrs, num_classes)\n",
    "model_ft.fc = nn.Sequential(nn.Linear(num_ftrs, 512),\n",
    "            nn.ReLU(),\n",
    "            nn.Linear(512, 256),\n",
    "            nn.ReLU(),\n",
    "            nn.Linear(256, 128),\n",
    "            nn.ReLU(),\n",
    "            nn.Dropout(0.25),\n",
    "            nn.Linear(128, 64),\n",
    "            nn.ReLU(),\n",
    "            nn.Dropout(0.25),\n",
    "            nn.Linear(64, num_classes))\n",
    " \n",
    "model_ft = model_ft.to(device)\n",
    "\n",
    "criterion = nn.CrossEntropyLoss()\n",
    "\n",
    "optimizer_ft = optim.Adam(model_ft.parameters(), lr=0.0001)"
   ]
  },
  {
   "cell_type": "code",
   "execution_count": 9,
   "metadata": {},
   "outputs": [
    {
     "name": "stdout",
     "output_type": "stream",
     "text": [
      "Epoch: 1/40\n",
      "Epoch : 000, Training: Loss: 1.2974, Accuracy: 40.5350%, \n",
      "\t\tValidation : Loss : 1.0884, Accuracy: 85.3403%, Time: 51.8297s\n",
      "Epoch: 2/40\n",
      "Epoch : 001, Training: Loss: 0.9276, Accuracy: 65.0206%, \n",
      "\t\tValidation : Loss : 0.5916, Accuracy: 68.0628%, Time: 28.1887s\n",
      "Epoch: 3/40\n",
      "Epoch : 002, Training: Loss: 0.6236, Accuracy: 74.2798%, \n",
      "\t\tValidation : Loss : 0.2338, Accuracy: 96.8586%, Time: 23.4513s\n",
      "Epoch: 4/40\n",
      "Epoch : 003, Training: Loss: 0.4138, Accuracy: 86.4198%, \n",
      "\t\tValidation : Loss : 0.0990, Accuracy: 97.3822%, Time: 26.2155s\n",
      "Epoch: 5/40\n",
      "Epoch : 004, Training: Loss: 0.2325, Accuracy: 93.2099%, \n",
      "\t\tValidation : Loss : 0.0765, Accuracy: 97.9058%, Time: 27.9468s\n",
      "Epoch: 6/40\n",
      "Epoch : 005, Training: Loss: 0.2267, Accuracy: 92.5926%, \n",
      "\t\tValidation : Loss : 0.1101, Accuracy: 96.3351%, Time: 24.6681s\n",
      "Epoch: 7/40\n",
      "Epoch : 006, Training: Loss: 0.2055, Accuracy: 93.8272%, \n",
      "\t\tValidation : Loss : 0.0822, Accuracy: 97.3822%, Time: 23.4174s\n",
      "Epoch: 8/40\n",
      "Epoch : 007, Training: Loss: 0.2147, Accuracy: 92.5926%, \n",
      "\t\tValidation : Loss : 0.0847, Accuracy: 96.8586%, Time: 23.4013s\n",
      "Epoch: 9/40\n",
      "Epoch : 008, Training: Loss: 0.1625, Accuracy: 94.0329%, \n",
      "\t\tValidation : Loss : 0.2278, Accuracy: 90.5759%, Time: 22.5446s\n",
      "Epoch: 10/40\n",
      "Epoch : 009, Training: Loss: 0.0911, Accuracy: 97.7366%, \n",
      "\t\tValidation : Loss : 0.1254, Accuracy: 95.2880%, Time: 22.3950s\n",
      "Epoch: 11/40\n",
      "Epoch : 010, Training: Loss: 0.1279, Accuracy: 96.0905%, \n",
      "\t\tValidation : Loss : 0.0600, Accuracy: 98.4293%, Time: 24.4975s\n",
      "Epoch: 12/40\n",
      "Epoch : 011, Training: Loss: 0.0903, Accuracy: 97.5309%, \n",
      "\t\tValidation : Loss : 0.1213, Accuracy: 96.8586%, Time: 25.1269s\n",
      "Epoch: 13/40\n",
      "Epoch : 012, Training: Loss: 0.1250, Accuracy: 96.9136%, \n",
      "\t\tValidation : Loss : 0.1196, Accuracy: 97.3822%, Time: 24.3566s\n",
      "Epoch: 14/40\n",
      "Epoch : 013, Training: Loss: 0.1415, Accuracy: 94.8560%, \n",
      "\t\tValidation : Loss : 0.1045, Accuracy: 96.3351%, Time: 24.2347s\n",
      "Epoch: 15/40\n",
      "Epoch : 014, Training: Loss: 0.0744, Accuracy: 97.5309%, \n",
      "\t\tValidation : Loss : 0.0789, Accuracy: 97.9058%, Time: 24.3464s\n",
      "Epoch: 16/40\n",
      "Epoch : 015, Training: Loss: 0.0808, Accuracy: 97.5309%, \n",
      "\t\tValidation : Loss : 0.0983, Accuracy: 97.3822%, Time: 25.7008s\n",
      "Epoch: 17/40\n",
      "Epoch : 016, Training: Loss: 0.0675, Accuracy: 97.5309%, \n",
      "\t\tValidation : Loss : 0.0762, Accuracy: 96.8586%, Time: 23.7311s\n",
      "Epoch: 18/40\n",
      "Epoch : 017, Training: Loss: 0.0460, Accuracy: 98.5597%, \n",
      "\t\tValidation : Loss : 0.0923, Accuracy: 98.4293%, Time: 23.1916s\n",
      "Epoch: 19/40\n",
      "Epoch : 018, Training: Loss: 0.0654, Accuracy: 97.7366%, \n",
      "\t\tValidation : Loss : 0.1319, Accuracy: 95.8115%, Time: 23.3465s\n",
      "Epoch: 20/40\n",
      "Epoch : 019, Training: Loss: 0.1150, Accuracy: 96.9136%, \n",
      "\t\tValidation : Loss : 0.1345, Accuracy: 96.3351%, Time: 22.4673s\n",
      "Epoch: 21/40\n",
      "Epoch : 020, Training: Loss: 0.1318, Accuracy: 95.8848%, \n",
      "\t\tValidation : Loss : 0.2366, Accuracy: 92.1466%, Time: 23.1942s\n",
      "Epoch: 22/40\n",
      "Epoch : 021, Training: Loss: 0.0794, Accuracy: 98.1481%, \n",
      "\t\tValidation : Loss : 0.0554, Accuracy: 97.9058%, Time: 22.7625s\n",
      "Epoch: 23/40\n",
      "Epoch : 022, Training: Loss: 0.0167, Accuracy: 100.0000%, \n",
      "\t\tValidation : Loss : 0.1057, Accuracy: 96.3351%, Time: 22.5857s\n",
      "Epoch: 24/40\n",
      "Epoch : 023, Training: Loss: 0.0279, Accuracy: 99.3827%, \n",
      "\t\tValidation : Loss : 0.1261, Accuracy: 95.8115%, Time: 23.6545s\n",
      "Epoch: 25/40\n",
      "Epoch : 024, Training: Loss: 0.0165, Accuracy: 99.5885%, \n",
      "\t\tValidation : Loss : 0.0783, Accuracy: 96.8586%, Time: 26.4989s\n",
      "Epoch: 26/40\n",
      "Epoch : 025, Training: Loss: 0.0531, Accuracy: 99.1770%, \n",
      "\t\tValidation : Loss : 0.0777, Accuracy: 97.3822%, Time: 22.0081s\n",
      "Epoch: 27/40\n",
      "Epoch : 026, Training: Loss: 0.0861, Accuracy: 98.3539%, \n",
      "\t\tValidation : Loss : 0.0562, Accuracy: 98.4293%, Time: 22.3343s\n",
      "Epoch: 28/40\n",
      "Epoch : 027, Training: Loss: 0.0426, Accuracy: 99.1770%, \n",
      "\t\tValidation : Loss : 0.1533, Accuracy: 94.7644%, Time: 22.5896s\n",
      "Epoch: 29/40\n",
      "Epoch : 028, Training: Loss: 0.0454, Accuracy: 98.9712%, \n",
      "\t\tValidation : Loss : 0.1183, Accuracy: 96.8586%, Time: 22.7668s\n",
      "Epoch: 30/40\n",
      "Epoch : 029, Training: Loss: 0.1065, Accuracy: 97.7366%, \n",
      "\t\tValidation : Loss : 0.1476, Accuracy: 95.2880%, Time: 23.2332s\n",
      "Epoch: 31/40\n",
      "Epoch : 030, Training: Loss: 0.0540, Accuracy: 98.9712%, \n",
      "\t\tValidation : Loss : 0.1936, Accuracy: 96.3351%, Time: 23.7399s\n",
      "Epoch: 32/40\n",
      "Epoch : 031, Training: Loss: 0.0742, Accuracy: 98.1481%, \n",
      "\t\tValidation : Loss : 0.1323, Accuracy: 96.8586%, Time: 22.3878s\n",
      "Epoch: 33/40\n",
      "Epoch : 032, Training: Loss: 0.0229, Accuracy: 99.7942%, \n",
      "\t\tValidation : Loss : 0.0772, Accuracy: 96.8586%, Time: 22.7679s\n",
      "Epoch: 34/40\n",
      "Epoch : 033, Training: Loss: 0.0668, Accuracy: 97.5309%, \n",
      "\t\tValidation : Loss : 0.1630, Accuracy: 94.7644%, Time: 23.0293s\n",
      "Epoch: 35/40\n",
      "Epoch : 034, Training: Loss: 0.0969, Accuracy: 97.3251%, \n",
      "\t\tValidation : Loss : 0.1061, Accuracy: 96.8586%, Time: 23.5684s\n",
      "Epoch: 36/40\n",
      "Epoch : 035, Training: Loss: 0.0609, Accuracy: 98.5597%, \n",
      "\t\tValidation : Loss : 0.0708, Accuracy: 97.9058%, Time: 23.3393s\n",
      "Epoch: 37/40\n",
      "Epoch : 036, Training: Loss: 0.0114, Accuracy: 99.7942%, \n",
      "\t\tValidation : Loss : 0.1336, Accuracy: 96.8586%, Time: 22.9859s\n",
      "Epoch: 38/40\n",
      "Epoch : 037, Training: Loss: 0.0317, Accuracy: 98.7654%, \n",
      "\t\tValidation : Loss : 0.0873, Accuracy: 96.8586%, Time: 23.8281s\n",
      "Epoch: 39/40\n",
      "Epoch : 038, Training: Loss: 0.1068, Accuracy: 96.7078%, \n",
      "\t\tValidation : Loss : 0.1129, Accuracy: 96.3351%, Time: 25.2515s\n",
      "Epoch: 40/40\n",
      "Epoch : 039, Training: Loss: 0.0619, Accuracy: 98.1481%, \n",
      "\t\tValidation : Loss : 0.0513, Accuracy: 98.4293%, Time: 24.6649s\n"
     ]
    }
   ],
   "source": [
    "num_epochs = 40\n",
    "trained_model, history = train_and_validate(model_ft, criterion, optimizer_ft, num_epochs)"
   ]
  },
  {
   "cell_type": "code",
   "execution_count": 10,
   "metadata": {},
   "outputs": [
    {
     "data": {
      "image/png": "[encoded data removed]",
      "text/plain": [
       "<Figure size 432x288 with 1 Axes>"
      ]
     },
     "metadata": {
      "needs_background": "light"
     },
     "output_type": "display_data"
    }
   ],
   "source": [
    "history = np.array(history)\n",
    "plt.plot(history[:,0:2])\n",
    "plt.legend(['Tr Loss', 'Val Loss'])\n",
    "plt.xlabel('Epoch Number')\n",
    "plt.ylabel('Loss')\n",
    "plt.title('Loss vs Epoch')\n",
    "plt.ylim(0,3)\n",
    "plt.show()"
   ]
  },
  {
   "cell_type": "code",
   "execution_count": 11,
   "metadata": {},
   "outputs": [
    {
     "data": {
      "image/png": "[encoded data removed]",
      "text/plain": [
       "<Figure size 432x288 with 1 Axes>"
      ]
     },
     "metadata": {
      "needs_background": "light"
     },
     "output_type": "display_data"
    }
   ],
   "source": [
    "plt.plot(history[:,2:4])\n",
    "plt.legend(['Tr Accuracy', 'Val Accuracy'])\n",
    "plt.xlabel('Epoch Number')\n",
    "plt.ylabel('Accuracy')\n",
    "plt.title('Accuracy vs Epoch')\n",
    "plt.ylim(0,1)\n",
    "plt.show()"
   ]
  },
  {
   "cell_type": "code",
   "execution_count": 12,
   "metadata": {},
   "outputs": [
    {
     "name": "stdout",
     "output_type": "stream",
     "text": [
      "Accuracy of the network: 98 %\n"
     ]
    }
   ],
   "source": [
    "correct = 0\n",
    "total = 0\n",
    "# since we're not training, we don't need to calculate the gradients for our outputs\n",
    "with torch.no_grad():\n",
    "    for data in testloader:\n",
    "#         images, labels = data\n",
    "        images, labels = data[0].to(device), data[1].to(device)\n",
    "        # calculate outputs by running images through the network\n",
    "#         images = images.view(images.size(0), -1)\n",
    "        outputs = model_ft(images)\n",
    "        # the class with the highest energy is what we choose as prediction\n",
    "        _, predicted = torch.max(outputs.data, 1)\n",
    "        total += labels.size(0)\n",
    "        correct += (predicted == labels).sum().item()\n",
    "\n",
    "print(f'Accuracy of the network: {100 * correct // total} %')"
   ]
  },
  {
   "cell_type": "code",
   "execution_count": 13,
   "metadata": {},
   "outputs": [
    {
     "name": "stdout",
     "output_type": "stream",
     "text": [
      "Accuracy for class: Durian is 100.0 %\n",
      "Accuracy for class: Pumpkin is 100.0 %\n",
      "Accuracy for class: Tomato is 97.4 %\n",
      "Accuracy for class: Watermelon is 96.9 %\n"
     ]
    }
   ],
   "source": [
    "correct_pred = {classname: 0 for classname in os.listdir(train_directory)}\n",
    "total_pred = {classname: 0 for classname in os.listdir(train_directory)}\n",
    "\n",
    "# again no gradients needed\n",
    "with torch.no_grad():\n",
    "    for data in testloader:\n",
    "        images, labels = data[0].to(device), data[1].to(device)\n",
    "#         images = images.view(images.size(0), -1)\n",
    "        outputs = model_ft(images)\n",
    "        _, predictions = torch.max(outputs, 1)\n",
    "        # collect the correct predictions for each class\n",
    "        for label, prediction in zip(labels, predictions):\n",
    "            if label == prediction:\n",
    "                correct_pred[os.listdir(train_directory)[label]] += 1\n",
    "            total_pred[os.listdir(train_directory)[label]] += 1\n",
    "\n",
    "\n",
    "# print accuracy for each class\n",
    "for classname, correct_count in correct_pred.items():\n",
    "    accuracy = 100 * float(correct_count) / total_pred[classname]\n",
    "    print(f'Accuracy for class: {classname:5s} is {accuracy:.1f} %')"
   ]
  },
  {
   "cell_type": "code",
   "execution_count": 14,
   "metadata": {},
   "outputs": [
    {
     "data": {
      "text/plain": [
       "<AxesSubplot:>"
      ]
     },
     "execution_count": 14,
     "metadata": {},
     "output_type": "execute_result"
    },
    {
     "data": {
      "image/png": "[encoded data removed]",
      "text/plain": [
       "<Figure size 1440x720 with 2 Axes>"
      ]
     },
     "metadata": {
      "needs_background": "light"
     },
     "output_type": "display_data"
    }
   ],
   "source": [
    "from sklearn.metrics import confusion_matrix\n",
    "import seaborn as sn\n",
    "import pandas as pd\n",
    "\n",
    "y_pred = []\n",
    "y_true = []\n",
    "\n",
    "model_ft.to('cpu')\n",
    "\n",
    "# iterate over test data\n",
    "for inputs, labels in testloader:\n",
    "#         #reshape images so they can be fed to a nn.Linear()\n",
    "#         inputs = inputs.view(inputs.size(0), -1)\n",
    "        output = model_ft(inputs) # Feed Network\n",
    "\n",
    "        output = (torch.max(torch.exp(output), 1)[1]).data.cpu().numpy()\n",
    "        y_pred.extend(output) # Save Prediction\n",
    "        \n",
    "        labels = labels.data.cpu().numpy()\n",
    "        y_true.extend(labels) # Save Truth\n",
    "\n",
    "# constant for classes\n",
    "classes = ('Durian', 'Pumpkin', 'Tomato', 'Watermelon')\n",
    "\n",
    "# Build confusion matrix\n",
    "cf_matrix = confusion_matrix(y_true, y_pred)\n",
    "df_cm = pd.DataFrame(cf_matrix/np.sum(cf_matrix) *10, index = [i for i in classes],\n",
    "                     columns = [i for i in classes])\n",
    "plt.figure(figsize = (20,10))\n",
    "sn.heatmap(df_cm, annot=True)"
   ]
  },
  {
   "cell_type": "code",
   "execution_count": 15,
   "metadata": {},
   "outputs": [],
   "source": [
    "save_path = 'C:/KPT/Model_ft_Fruit_Classification.pt'\n",
    "torch.save(model_ft.state_dict(), save_path)"
   ]
  },
  {
   "cell_type": "code",
   "execution_count": 16,
   "metadata": {},
   "outputs": [],
   "source": [
    "save_path = 'C:/KPT/Model_ft_Fruit_Classification_.pt'\n",
    "torch.save(model_ft, save_path)"
   ]
  },
  {
   "cell_type": "code",
   "execution_count": null,
   "metadata": {},
   "outputs": [],
   "source": []
  }
 ],
 "metadata": {
  "kernelspec": {
   "display_name": "Python 3 (ipykernel)",
   "language": "python",
   "name": "python3"
  },
  "language_info": {
   "codemirror_mode": {
    "name": "ipython",
    "version": 3
   },
   "file_extension": ".py",
   "mimetype": "text/x-python",
   "name": "python",
   "nbconvert_exporter": "python",
   "pygments_lexer": "ipython3",
   "version": "3.9.12"
  }
 },
 "nbformat": 4,
 "nbformat_minor": 4
}
